{
  "nbformat": 4,
  "nbformat_minor": 0,
  "metadata": {
    "colab": {
      "name": "Arima_ _Final.ipynb",
      "provenance": [],
      "collapsed_sections": []
    },
    "kernelspec": {
      "name": "python3",
      "display_name": "Python 3"
    },
    "language_info": {
      "name": "python"
    }
  },
  "cells": [
    {
      "cell_type": "code",
      "metadata": {
        "id": "NNOU8J4okKwm",
        "colab": {
          "base_uri": "https://localhost:8080/"
        },
        "outputId": "60dc6cab-e748-40eb-8f5d-4d656ec5a260"
      },
      "source": [
        "import pandas as pd\n",
        "import numpy as np\n",
        "import matplotlib.pyplot as plt\n",
        "import statsmodels as sm\n",
        "from statsmodels.tsa.stattools import adfuller\n",
        "from statsmodels.graphics.tsaplots import plot_acf\n",
        "from statsmodels.tsa.arima_model import ARIMA\n",
        "from statsmodels.tsa.ar_model import AR\n",
        "from sklearn.metrics import mean_squared_error\n",
        "import statistics"
      ],
      "execution_count": 2,
      "outputs": [
        {
          "output_type": "stream",
          "text": [
            "/usr/local/lib/python3.7/dist-packages/statsmodels/tools/_testing.py:19: FutureWarning: pandas.util.testing is deprecated. Use the functions in the public API at pandas.testing instead.\n",
            "  import pandas.util.testing as tm\n"
          ],
          "name": "stderr"
        }
      ]
    },
    {
      "cell_type": "code",
      "metadata": {
        "id": "hQa17o60kxDK"
      },
      "source": [
        "DF = pd.read_csv(\"/content/drive/MyDrive/TSLA.csv\")"
      ],
      "execution_count": 7,
      "outputs": []
    },
    {
      "cell_type": "code",
      "metadata": {
        "colab": {
          "base_uri": "https://localhost:8080/",
          "height": 419
        },
        "id": "IsqoabykkxFI",
        "outputId": "efd6d330-2c56-4c89-f189-c0a7a0b16e86"
      },
      "source": [
        "DF"
      ],
      "execution_count": 8,
      "outputs": [
        {
          "output_type": "execute_result",
          "data": {
            "text/html": [
              "<div>\n",
              "<style scoped>\n",
              "    .dataframe tbody tr th:only-of-type {\n",
              "        vertical-align: middle;\n",
              "    }\n",
              "\n",
              "    .dataframe tbody tr th {\n",
              "        vertical-align: top;\n",
              "    }\n",
              "\n",
              "    .dataframe thead th {\n",
              "        text-align: right;\n",
              "    }\n",
              "</style>\n",
              "<table border=\"1\" class=\"dataframe\">\n",
              "  <thead>\n",
              "    <tr style=\"text-align: right;\">\n",
              "      <th></th>\n",
              "      <th>Date</th>\n",
              "      <th>Open</th>\n",
              "      <th>High</th>\n",
              "      <th>Low</th>\n",
              "      <th>Close</th>\n",
              "      <th>Adj Close</th>\n",
              "      <th>Volume</th>\n",
              "    </tr>\n",
              "  </thead>\n",
              "  <tbody>\n",
              "    <tr>\n",
              "      <th>0</th>\n",
              "      <td>2015-04-06</td>\n",
              "      <td>39.599998</td>\n",
              "      <td>41.549999</td>\n",
              "      <td>39.500000</td>\n",
              "      <td>40.619999</td>\n",
              "      <td>40.619999</td>\n",
              "      <td>62279000</td>\n",
              "    </tr>\n",
              "    <tr>\n",
              "      <th>1</th>\n",
              "      <td>2015-04-07</td>\n",
              "      <td>40.501999</td>\n",
              "      <td>41.012001</td>\n",
              "      <td>40.228001</td>\n",
              "      <td>40.650002</td>\n",
              "      <td>40.650002</td>\n",
              "      <td>21739500</td>\n",
              "    </tr>\n",
              "    <tr>\n",
              "      <th>2</th>\n",
              "      <td>2015-04-08</td>\n",
              "      <td>41.639999</td>\n",
              "      <td>42.180000</td>\n",
              "      <td>41.174000</td>\n",
              "      <td>41.534000</td>\n",
              "      <td>41.534000</td>\n",
              "      <td>31515500</td>\n",
              "    </tr>\n",
              "    <tr>\n",
              "      <th>3</th>\n",
              "      <td>2015-04-09</td>\n",
              "      <td>41.686001</td>\n",
              "      <td>42.074001</td>\n",
              "      <td>41.223999</td>\n",
              "      <td>42.018002</td>\n",
              "      <td>42.018002</td>\n",
              "      <td>19001000</td>\n",
              "    </tr>\n",
              "    <tr>\n",
              "      <th>4</th>\n",
              "      <td>2015-04-10</td>\n",
              "      <td>41.970001</td>\n",
              "      <td>42.330002</td>\n",
              "      <td>41.799999</td>\n",
              "      <td>42.180000</td>\n",
              "      <td>42.180000</td>\n",
              "      <td>20338500</td>\n",
              "    </tr>\n",
              "    <tr>\n",
              "      <th>...</th>\n",
              "      <td>...</td>\n",
              "      <td>...</td>\n",
              "      <td>...</td>\n",
              "      <td>...</td>\n",
              "      <td>...</td>\n",
              "      <td>...</td>\n",
              "      <td>...</td>\n",
              "    </tr>\n",
              "    <tr>\n",
              "      <th>1505</th>\n",
              "      <td>2021-03-26</td>\n",
              "      <td>641.869995</td>\n",
              "      <td>643.820007</td>\n",
              "      <td>599.890015</td>\n",
              "      <td>618.710022</td>\n",
              "      <td>618.710022</td>\n",
              "      <td>33778400</td>\n",
              "    </tr>\n",
              "    <tr>\n",
              "      <th>1506</th>\n",
              "      <td>2021-03-29</td>\n",
              "      <td>615.640015</td>\n",
              "      <td>616.479980</td>\n",
              "      <td>596.020020</td>\n",
              "      <td>611.289978</td>\n",
              "      <td>611.289978</td>\n",
              "      <td>28637000</td>\n",
              "    </tr>\n",
              "    <tr>\n",
              "      <th>1507</th>\n",
              "      <td>2021-03-30</td>\n",
              "      <td>601.750000</td>\n",
              "      <td>637.659973</td>\n",
              "      <td>591.010010</td>\n",
              "      <td>635.619995</td>\n",
              "      <td>635.619995</td>\n",
              "      <td>39432400</td>\n",
              "    </tr>\n",
              "    <tr>\n",
              "      <th>1508</th>\n",
              "      <td>2021-03-31</td>\n",
              "      <td>646.619995</td>\n",
              "      <td>672.000000</td>\n",
              "      <td>641.109985</td>\n",
              "      <td>667.929993</td>\n",
              "      <td>667.929993</td>\n",
              "      <td>33337300</td>\n",
              "    </tr>\n",
              "    <tr>\n",
              "      <th>1509</th>\n",
              "      <td>2021-04-01</td>\n",
              "      <td>688.369995</td>\n",
              "      <td>692.419983</td>\n",
              "      <td>659.419983</td>\n",
              "      <td>661.750000</td>\n",
              "      <td>661.750000</td>\n",
              "      <td>35206300</td>\n",
              "    </tr>\n",
              "  </tbody>\n",
              "</table>\n",
              "<p>1510 rows × 7 columns</p>\n",
              "</div>"
            ],
            "text/plain": [
              "            Date        Open        High  ...       Close   Adj Close    Volume\n",
              "0     2015-04-06   39.599998   41.549999  ...   40.619999   40.619999  62279000\n",
              "1     2015-04-07   40.501999   41.012001  ...   40.650002   40.650002  21739500\n",
              "2     2015-04-08   41.639999   42.180000  ...   41.534000   41.534000  31515500\n",
              "3     2015-04-09   41.686001   42.074001  ...   42.018002   42.018002  19001000\n",
              "4     2015-04-10   41.970001   42.330002  ...   42.180000   42.180000  20338500\n",
              "...          ...         ...         ...  ...         ...         ...       ...\n",
              "1505  2021-03-26  641.869995  643.820007  ...  618.710022  618.710022  33778400\n",
              "1506  2021-03-29  615.640015  616.479980  ...  611.289978  611.289978  28637000\n",
              "1507  2021-03-30  601.750000  637.659973  ...  635.619995  635.619995  39432400\n",
              "1508  2021-03-31  646.619995  672.000000  ...  667.929993  667.929993  33337300\n",
              "1509  2021-04-01  688.369995  692.419983  ...  661.750000  661.750000  35206300\n",
              "\n",
              "[1510 rows x 7 columns]"
            ]
          },
          "metadata": {
            "tags": []
          },
          "execution_count": 8
        }
      ]
    },
    {
      "cell_type": "code",
      "metadata": {
        "id": "XGrPWyunkxHZ"
      },
      "source": [
        "DF.set_index('Date', inplace = True)"
      ],
      "execution_count": 9,
      "outputs": []
    },
    {
      "cell_type": "code",
      "metadata": {
        "colab": {
          "base_uri": "https://localhost:8080/",
          "height": 450
        },
        "id": "eKddFyJPkxKo",
        "outputId": "67c60e26-b91d-4049-b15a-51ea0bfbc97a"
      },
      "source": [
        "DF"
      ],
      "execution_count": 10,
      "outputs": [
        {
          "output_type": "execute_result",
          "data": {
            "text/html": [
              "<div>\n",
              "<style scoped>\n",
              "    .dataframe tbody tr th:only-of-type {\n",
              "        vertical-align: middle;\n",
              "    }\n",
              "\n",
              "    .dataframe tbody tr th {\n",
              "        vertical-align: top;\n",
              "    }\n",
              "\n",
              "    .dataframe thead th {\n",
              "        text-align: right;\n",
              "    }\n",
              "</style>\n",
              "<table border=\"1\" class=\"dataframe\">\n",
              "  <thead>\n",
              "    <tr style=\"text-align: right;\">\n",
              "      <th></th>\n",
              "      <th>Open</th>\n",
              "      <th>High</th>\n",
              "      <th>Low</th>\n",
              "      <th>Close</th>\n",
              "      <th>Adj Close</th>\n",
              "      <th>Volume</th>\n",
              "    </tr>\n",
              "    <tr>\n",
              "      <th>Date</th>\n",
              "      <th></th>\n",
              "      <th></th>\n",
              "      <th></th>\n",
              "      <th></th>\n",
              "      <th></th>\n",
              "      <th></th>\n",
              "    </tr>\n",
              "  </thead>\n",
              "  <tbody>\n",
              "    <tr>\n",
              "      <th>2015-04-06</th>\n",
              "      <td>39.599998</td>\n",
              "      <td>41.549999</td>\n",
              "      <td>39.500000</td>\n",
              "      <td>40.619999</td>\n",
              "      <td>40.619999</td>\n",
              "      <td>62279000</td>\n",
              "    </tr>\n",
              "    <tr>\n",
              "      <th>2015-04-07</th>\n",
              "      <td>40.501999</td>\n",
              "      <td>41.012001</td>\n",
              "      <td>40.228001</td>\n",
              "      <td>40.650002</td>\n",
              "      <td>40.650002</td>\n",
              "      <td>21739500</td>\n",
              "    </tr>\n",
              "    <tr>\n",
              "      <th>2015-04-08</th>\n",
              "      <td>41.639999</td>\n",
              "      <td>42.180000</td>\n",
              "      <td>41.174000</td>\n",
              "      <td>41.534000</td>\n",
              "      <td>41.534000</td>\n",
              "      <td>31515500</td>\n",
              "    </tr>\n",
              "    <tr>\n",
              "      <th>2015-04-09</th>\n",
              "      <td>41.686001</td>\n",
              "      <td>42.074001</td>\n",
              "      <td>41.223999</td>\n",
              "      <td>42.018002</td>\n",
              "      <td>42.018002</td>\n",
              "      <td>19001000</td>\n",
              "    </tr>\n",
              "    <tr>\n",
              "      <th>2015-04-10</th>\n",
              "      <td>41.970001</td>\n",
              "      <td>42.330002</td>\n",
              "      <td>41.799999</td>\n",
              "      <td>42.180000</td>\n",
              "      <td>42.180000</td>\n",
              "      <td>20338500</td>\n",
              "    </tr>\n",
              "    <tr>\n",
              "      <th>...</th>\n",
              "      <td>...</td>\n",
              "      <td>...</td>\n",
              "      <td>...</td>\n",
              "      <td>...</td>\n",
              "      <td>...</td>\n",
              "      <td>...</td>\n",
              "    </tr>\n",
              "    <tr>\n",
              "      <th>2021-03-26</th>\n",
              "      <td>641.869995</td>\n",
              "      <td>643.820007</td>\n",
              "      <td>599.890015</td>\n",
              "      <td>618.710022</td>\n",
              "      <td>618.710022</td>\n",
              "      <td>33778400</td>\n",
              "    </tr>\n",
              "    <tr>\n",
              "      <th>2021-03-29</th>\n",
              "      <td>615.640015</td>\n",
              "      <td>616.479980</td>\n",
              "      <td>596.020020</td>\n",
              "      <td>611.289978</td>\n",
              "      <td>611.289978</td>\n",
              "      <td>28637000</td>\n",
              "    </tr>\n",
              "    <tr>\n",
              "      <th>2021-03-30</th>\n",
              "      <td>601.750000</td>\n",
              "      <td>637.659973</td>\n",
              "      <td>591.010010</td>\n",
              "      <td>635.619995</td>\n",
              "      <td>635.619995</td>\n",
              "      <td>39432400</td>\n",
              "    </tr>\n",
              "    <tr>\n",
              "      <th>2021-03-31</th>\n",
              "      <td>646.619995</td>\n",
              "      <td>672.000000</td>\n",
              "      <td>641.109985</td>\n",
              "      <td>667.929993</td>\n",
              "      <td>667.929993</td>\n",
              "      <td>33337300</td>\n",
              "    </tr>\n",
              "    <tr>\n",
              "      <th>2021-04-01</th>\n",
              "      <td>688.369995</td>\n",
              "      <td>692.419983</td>\n",
              "      <td>659.419983</td>\n",
              "      <td>661.750000</td>\n",
              "      <td>661.750000</td>\n",
              "      <td>35206300</td>\n",
              "    </tr>\n",
              "  </tbody>\n",
              "</table>\n",
              "<p>1510 rows × 6 columns</p>\n",
              "</div>"
            ],
            "text/plain": [
              "                  Open        High  ...   Adj Close    Volume\n",
              "Date                                ...                      \n",
              "2015-04-06   39.599998   41.549999  ...   40.619999  62279000\n",
              "2015-04-07   40.501999   41.012001  ...   40.650002  21739500\n",
              "2015-04-08   41.639999   42.180000  ...   41.534000  31515500\n",
              "2015-04-09   41.686001   42.074001  ...   42.018002  19001000\n",
              "2015-04-10   41.970001   42.330002  ...   42.180000  20338500\n",
              "...                ...         ...  ...         ...       ...\n",
              "2021-03-26  641.869995  643.820007  ...  618.710022  33778400\n",
              "2021-03-29  615.640015  616.479980  ...  611.289978  28637000\n",
              "2021-03-30  601.750000  637.659973  ...  635.619995  39432400\n",
              "2021-03-31  646.619995  672.000000  ...  667.929993  33337300\n",
              "2021-04-01  688.369995  692.419983  ...  661.750000  35206300\n",
              "\n",
              "[1510 rows x 6 columns]"
            ]
          },
          "metadata": {
            "tags": []
          },
          "execution_count": 10
        }
      ]
    },
    {
      "cell_type": "code",
      "metadata": {
        "id": "S41zvAVdryYP"
      },
      "source": [
        "data = DF.filter(['Date','Close'])"
      ],
      "execution_count": 11,
      "outputs": []
    },
    {
      "cell_type": "code",
      "metadata": {
        "colab": {
          "base_uri": "https://localhost:8080/",
          "height": 450
        },
        "id": "0dztLqjArybb",
        "outputId": "a7de9e06-244c-4228-e962-57edee1761b9"
      },
      "source": [
        "data"
      ],
      "execution_count": 12,
      "outputs": [
        {
          "output_type": "execute_result",
          "data": {
            "text/html": [
              "<div>\n",
              "<style scoped>\n",
              "    .dataframe tbody tr th:only-of-type {\n",
              "        vertical-align: middle;\n",
              "    }\n",
              "\n",
              "    .dataframe tbody tr th {\n",
              "        vertical-align: top;\n",
              "    }\n",
              "\n",
              "    .dataframe thead th {\n",
              "        text-align: right;\n",
              "    }\n",
              "</style>\n",
              "<table border=\"1\" class=\"dataframe\">\n",
              "  <thead>\n",
              "    <tr style=\"text-align: right;\">\n",
              "      <th></th>\n",
              "      <th>Close</th>\n",
              "    </tr>\n",
              "    <tr>\n",
              "      <th>Date</th>\n",
              "      <th></th>\n",
              "    </tr>\n",
              "  </thead>\n",
              "  <tbody>\n",
              "    <tr>\n",
              "      <th>2015-04-06</th>\n",
              "      <td>40.619999</td>\n",
              "    </tr>\n",
              "    <tr>\n",
              "      <th>2015-04-07</th>\n",
              "      <td>40.650002</td>\n",
              "    </tr>\n",
              "    <tr>\n",
              "      <th>2015-04-08</th>\n",
              "      <td>41.534000</td>\n",
              "    </tr>\n",
              "    <tr>\n",
              "      <th>2015-04-09</th>\n",
              "      <td>42.018002</td>\n",
              "    </tr>\n",
              "    <tr>\n",
              "      <th>2015-04-10</th>\n",
              "      <td>42.180000</td>\n",
              "    </tr>\n",
              "    <tr>\n",
              "      <th>...</th>\n",
              "      <td>...</td>\n",
              "    </tr>\n",
              "    <tr>\n",
              "      <th>2021-03-26</th>\n",
              "      <td>618.710022</td>\n",
              "    </tr>\n",
              "    <tr>\n",
              "      <th>2021-03-29</th>\n",
              "      <td>611.289978</td>\n",
              "    </tr>\n",
              "    <tr>\n",
              "      <th>2021-03-30</th>\n",
              "      <td>635.619995</td>\n",
              "    </tr>\n",
              "    <tr>\n",
              "      <th>2021-03-31</th>\n",
              "      <td>667.929993</td>\n",
              "    </tr>\n",
              "    <tr>\n",
              "      <th>2021-04-01</th>\n",
              "      <td>661.750000</td>\n",
              "    </tr>\n",
              "  </tbody>\n",
              "</table>\n",
              "<p>1510 rows × 1 columns</p>\n",
              "</div>"
            ],
            "text/plain": [
              "                 Close\n",
              "Date                  \n",
              "2015-04-06   40.619999\n",
              "2015-04-07   40.650002\n",
              "2015-04-08   41.534000\n",
              "2015-04-09   42.018002\n",
              "2015-04-10   42.180000\n",
              "...                ...\n",
              "2021-03-26  618.710022\n",
              "2021-03-29  611.289978\n",
              "2021-03-30  635.619995\n",
              "2021-03-31  667.929993\n",
              "2021-04-01  661.750000\n",
              "\n",
              "[1510 rows x 1 columns]"
            ]
          },
          "metadata": {
            "tags": []
          },
          "execution_count": 12
        }
      ]
    },
    {
      "cell_type": "code",
      "metadata": {
        "id": "Ol7RzJBJrw42",
        "colab": {
          "base_uri": "https://localhost:8080/",
          "height": 459
        },
        "outputId": "13178aa6-78d7-4f57-e2fe-e927a9d58d99"
      },
      "source": [
        "data.plot(figsize=(15,7))"
      ],
      "execution_count": 13,
      "outputs": [
        {
          "output_type": "execute_result",
          "data": {
            "text/plain": [
              "<matplotlib.axes._subplots.AxesSubplot at 0x7f8ed74bd290>"
            ]
          },
          "metadata": {
            "tags": []
          },
          "execution_count": 13
        },
        {
          "output_type": "display_data",
          "data": {
            "image/png": "[encoded data removed]",
            "text/plain": [
              "<Figure size 1080x504 with 1 Axes>"
            ]
          },
          "metadata": {
            "tags": [],
            "needs_background": "light"
          }
        }
      ]
    },
    {
      "cell_type": "code",
      "metadata": {
        "id": "GqtuprRukxQN"
      },
      "source": [
        "X = data.values"
      ],
      "execution_count": 11,
      "outputs": []
    },
    {
      "cell_type": "code",
      "metadata": {
        "id": "BQURDvILlwpl"
      },
      "source": [
        "train = X[0:1359]\n",
        "test = X[1359:]\n",
        "predictions = []"
      ],
      "execution_count": 12,
      "outputs": []
    },
    {
      "cell_type": "code",
      "metadata": {
        "colab": {
          "base_uri": "https://localhost:8080/"
        },
        "id": "xYtYw7bUlwri",
        "outputId": "922b44ce-2854-490f-f644-195a312cf534"
      },
      "source": [
        "test.size"
      ],
      "execution_count": 13,
      "outputs": [
        {
          "output_type": "execute_result",
          "data": {
            "text/plain": [
              "151"
            ]
          },
          "metadata": {
            "tags": []
          },
          "execution_count": 13
        }
      ]
    },
    {
      "cell_type": "code",
      "metadata": {
        "colab": {
          "base_uri": "https://localhost:8080/"
        },
        "id": "YzAiQ8Y3lwtg",
        "outputId": "6e3199b5-90ef-4327-9140-56689ab097af"
      },
      "source": [
        "model_arima = ARIMA(train,order=(6, 2, 9))\n",
        "model_arima_fit = model_arima.fit()\n",
        "print(model_arima_fit.aic)"
      ],
      "execution_count": 14,
      "outputs": [
        {
          "output_type": "stream",
          "text": [
            "7403.222067421333\n"
          ],
          "name": "stdout"
        },
        {
          "output_type": "stream",
          "text": [
            "/usr/local/lib/python3.7/dist-packages/statsmodels/base/model.py:492: HessianInversionWarning: Inverting hessian failed, no bse or cov_params available\n",
            "  'available', HessianInversionWarning)\n",
            "/usr/local/lib/python3.7/dist-packages/statsmodels/base/model.py:512: ConvergenceWarning: Maximum Likelihood optimization failed to converge. Check mle_retvals\n",
            "  \"Check mle_retvals\", ConvergenceWarning)\n"
          ],
          "name": "stderr"
        }
      ]
    },
    {
      "cell_type": "code",
      "metadata": {
        "colab": {
          "base_uri": "https://localhost:8080/"
        },
        "id": "RpiwgzPdlwwD",
        "outputId": "ca4cc518-8551-43cd-9d6c-d44f0784ce12"
      },
      "source": [
        "predictions = model_arima_fit.forecast(steps=151)[0]\n",
        "predictions"
      ],
      "execution_count": 15,
      "outputs": [
        {
          "output_type": "execute_result",
          "data": {
            "text/plain": [
              "array([406.02033025, 407.892212  , 414.23275308, 418.00826431,\n",
              "       416.61836054, 418.18080876, 421.51910411, 425.31807183,\n",
              "       431.28521467, 432.90811164, 431.88391662, 434.43858864,\n",
              "       438.04551437, 442.96981212, 447.58848481, 447.64987333,\n",
              "       447.70589803, 450.83579256, 455.21528008, 460.35049801,\n",
              "       463.15415588, 462.74773075, 463.79699196, 467.70092766,\n",
              "       472.7022412 , 477.10325056, 478.45109389, 478.14958523,\n",
              "       480.32068013, 485.02320101, 490.06902257, 493.3215238 ,\n",
              "       493.65174708, 493.99225615, 497.34606735, 502.5628504 ,\n",
              "       507.12153824, 509.07941495, 508.99806348, 510.38439936,\n",
              "       514.78195782, 520.10802068, 523.71526225, 524.57138805,\n",
              "       524.71230728, 527.33191425, 532.49163928, 537.42373172,\n",
              "       539.849136  , 540.04772668, 540.93729221, 544.78238277,\n",
              "       550.2620302 , 554.34851744, 555.64637978, 555.7463462 ,\n",
              "       557.74984708, 562.59183874, 567.87096475, 570.83168072,\n",
              "       571.30407129, 571.8728499 , 575.12894936, 580.55394723,\n",
              "       585.14362052, 586.93060589, 587.06035444, 588.55776036,\n",
              "       592.9581874 , 598.44403938, 601.98656972, 602.80063536,\n",
              "       603.1430539 , 605.83333324, 611.04847642, 616.06253166,\n",
              "       618.41113105, 618.65916629, 619.7246473 , 623.62955241,\n",
              "       629.17256213, 633.27840049, 634.53048143, 634.73942501,\n",
              "       636.88991731, 641.78721478, 647.11086741, 650.05689482,\n",
              "       650.535478  , 651.24316027, 654.6195379 , 660.08993671,\n",
              "       664.69593131, 666.46693322, 666.65531351, 668.29965799,\n",
              "       672.79483168, 678.30758213, 681.84640528, 682.66732338,\n",
              "       683.11028089, 685.94003288, 691.22220837, 696.24251911,\n",
              "       698.58379586, 698.87425498, 700.06683515, 704.09147033,\n",
              "       709.67245846, 713.76954688, 715.02810575, 715.31715382,\n",
              "       717.60389282, 722.59239701, 727.92721158, 730.86113501,\n",
              "       731.37339242, 732.19196555, 735.69703666, 741.22555432,\n",
              "       745.82310217, 747.59285231, 747.84827094, 749.62136484,\n",
              "       754.22377186, 759.76221553, 763.28472946, 764.12787545,\n",
              "       764.66942774, 767.62998227, 772.98865817, 778.0085982 ,\n",
              "       780.33974492, 780.68372686, 781.99764519, 786.13961636,\n",
              "       791.76316321, 795.8450817 , 797.11301699, 797.48803571,\n",
              "       799.90527086, 804.98533929, 810.33212391, 813.25029536,\n",
              "       813.80109086, 814.73232834, 818.36171418, 823.94917078,\n",
              "       828.53737872, 830.30522728, 830.63215898])"
            ]
          },
          "metadata": {
            "tags": []
          },
          "execution_count": 15
        }
      ]
    },
    {
      "cell_type": "code",
      "metadata": {
        "colab": {
          "base_uri": "https://localhost:8080/",
          "height": 295
        },
        "id": "JuVnfFMmlwyo",
        "outputId": "6d198fcf-1ba2-4f96-b695-33fb626a5d08"
      },
      "source": [
        "plt.figure(figsize=(10, 4))\n",
        "plt.plot(test)\n",
        "plt.plot(predictions,color='red')\n",
        "plt.title(\"TESLA stock price over time\")\n",
        "plt.xlabel(\"Datapoints\")\n",
        "plt.ylabel(\"Closing price\")\n",
        "plt.show()"
      ],
      "execution_count": 22,
      "outputs": [
        {
          "output_type": "display_data",
          "data": {
            "image/png": "[encoded data removed]",
            "text/plain": [
              "<Figure size 720x288 with 1 Axes>"
            ]
          },
          "metadata": {
            "tags": [],
            "needs_background": "light"
          }
        }
      ]
    },
    {
      "cell_type": "code",
      "metadata": {
        "colab": {
          "base_uri": "https://localhost:8080/"
        },
        "id": "Qwm7FViblw01",
        "outputId": "5eb5cf4f-4e3e-476a-8bf7-6a578a718dea"
      },
      "source": [
        "mean_squared_error(test,predictions)"
      ],
      "execution_count": 18,
      "outputs": [
        {
          "output_type": "execute_result",
          "data": {
            "text/plain": [
              "10657.868843206765"
            ]
          },
          "metadata": {
            "tags": []
          },
          "execution_count": 18
        }
      ]
    },
    {
      "cell_type": "code",
      "metadata": {
        "id": "vio32Fb-s1yD"
      },
      "source": [
        "import itertools\n",
        "p=d=q=range(0,10)\n",
        "pdq = list(itertools.product(p,d,q))"
      ],
      "execution_count": null,
      "outputs": []
    },
    {
      "cell_type": "code",
      "metadata": {
        "colab": {
          "base_uri": "https://localhost:8080/"
        },
        "id": "GFaI5i_zs15T",
        "outputId": "83214c2f-e452-419b-b99d-38a89a85004b"
      },
      "source": [
        "import warnings\n",
        "warnings.filterwarnings('ignore')\n",
        "for param in pdq:\n",
        "    try:\n",
        "        model_arima = ARIMA(train,order=param)\n",
        "        model_arima_fit = model_arima.fit()\n",
        "        print(param,model_arima_fit.aic)\n",
        "    except:\n",
        "        continue\n",
        "    "
      ],
      "execution_count": null,
      "outputs": [
        {
          "output_type": "stream",
          "text": [
            "(0, 0, 0) 14577.133540746017\n",
            "(0, 0, 1) 12807.51422313956\n",
            "(0, 0, 3) 10649.84429134167\n",
            "(0, 0, 4) 9950.751729700016\n",
            "(0, 0, 8) 8668.911866296676\n",
            "(0, 1, 0) 7566.150674688863\n",
            "(0, 1, 1) 7567.100361765308\n",
            "(0, 1, 2) 7566.979412373721\n",
            "(0, 1, 3) 7505.334225030978\n",
            "(0, 1, 4) 7497.010247402688\n",
            "(0, 1, 5) 7497.271949992484\n",
            "(0, 1, 6) 7485.894444664584\n",
            "(0, 1, 7) 7487.439195369696\n",
            "(0, 1, 8) 7489.39136539167\n",
            "(0, 1, 9) 7479.728576157387\n",
            "(0, 2, 0) 8462.382217957973\n",
            "(0, 2, 1) 7541.511491021671\n",
            "(1, 0, 0) 7598.270956984109\n",
            "(1, 1, 0) 7567.021091455367\n",
            "(1, 1, 1) 7552.024885745638\n",
            "(1, 1, 2) 7551.57800120484\n",
            "(1, 1, 3) 7497.997581227533\n",
            "(1, 1, 4) 7498.468911126309\n",
            "(1, 1, 5) 7494.035526861263\n",
            "(1, 1, 6) 7485.944300227042\n",
            "(1, 1, 7) 7488.890375593235\n",
            "(1, 1, 8) 7490.51124035222\n",
            "(1, 2, 0) 8059.541235827391\n",
            "(1, 2, 1) 7543.4721295222635\n",
            "(1, 2, 2) 7530.439562157488\n",
            "(1, 2, 3) 7525.198868426196\n",
            "(1, 2, 4) 7485.860546262422\n",
            "(1, 2, 5) 7484.054357811775\n",
            "(1, 2, 6) 7480.187353840394\n",
            "(1, 2, 7) 7474.8757025801515\n",
            "(2, 0, 0) 7588.002786575381\n",
            "(2, 1, 0) 7566.470570989694\n",
            "(2, 1, 1) 7550.199847975505\n",
            "(2, 1, 2) 7538.564392419214\n",
            "(2, 1, 3) 7494.1283985897535\n",
            "(2, 1, 4) 7491.576558276702\n",
            "(2, 1, 5) 7483.252571332517\n",
            "(2, 2, 0) 7741.006725760861\n",
            "(2, 2, 1) 7545.353040732019\n",
            "(2, 2, 2) 7521.650696862481\n",
            "(2, 2, 3) 7487.858403847009\n",
            "(2, 2, 4) 7479.976620213352\n",
            "(2, 2, 5) 7474.91739843283\n",
            "(2, 2, 6) 7471.994516127281\n",
            "(2, 2, 7) 7452.680063360103\n",
            "(2, 2, 8) 7450.029931715934\n",
            "(3, 0, 0) 7598.583638079623\n",
            "(3, 1, 0) 7502.336311167105\n",
            "(3, 1, 1) 7490.6280822410135\n",
            "(3, 1, 2) 7492.613305343396\n",
            "(3, 1, 3) 7494.319533737109\n",
            "(3, 2, 0) 7730.848570196459\n",
            "(3, 2, 1) 7494.217652933605\n",
            "(3, 2, 2) 7479.884667972926\n",
            "(3, 2, 3) 7481.665794307348\n",
            "(3, 2, 4) 7479.2186666676025\n",
            "(3, 2, 5) 7480.751695392995\n",
            "(3, 2, 6) 7473.9820387485\n",
            "(3, 2, 8) 7450.175346143947\n",
            "(4, 0, 0) 7530.778398639863\n",
            "(4, 1, 0) 7493.811752721946\n",
            "(4, 1, 1) 7492.615198576431\n",
            "(4, 1, 2) 7485.559577603938\n",
            "(4, 2, 0) 7674.918336803576\n",
            "(4, 2, 1) 7481.369069010719\n",
            "(4, 2, 2) 7481.610602820758\n",
            "(4, 2, 3) 7477.8860503112855\n",
            "(4, 2, 4) 7480.308679685617\n",
            "(4, 2, 5) 7463.003615300269\n",
            "(4, 2, 6) 7456.41561623533\n",
            "(4, 2, 7) 7449.681657713416\n",
            "(4, 2, 8) 7440.329851432452\n",
            "(5, 0, 0) 7522.0800043264335\n",
            "(5, 1, 0) 7492.896424209159\n",
            "(5, 1, 1) 7494.440374209502\n",
            "(5, 1, 2) 7487.321514631163\n",
            "(5, 2, 0) 7651.907785600572\n",
            "(5, 2, 1) 7482.313482211591\n",
            "(5, 2, 2) 7483.4780646726085\n",
            "(5, 2, 4) 7473.051338355899\n",
            "(5, 2, 5) 7448.228136489541\n",
            "(5, 2, 6) 7445.239807305541\n",
            "(5, 2, 7) 7445.41478412033\n",
            "(5, 2, 8) 7443.418255199344\n",
            "(6, 0, 0) 7520.586652472835\n",
            "(6, 1, 0) 7494.87875096246\n",
            "(6, 1, 1) 7496.228810072298\n",
            "(6, 1, 2) 7497.456756665573\n",
            "(6, 1, 3) 7486.092164348768\n",
            "(6, 1, 4) 7488.813486608364\n",
            "(6, 2, 0) 7611.017869063489\n",
            "(6, 2, 1) 7484.063651363149\n",
            "(6, 2, 2) 7486.210549219896\n",
            "(6, 2, 3) 7433.297559174573\n",
            "(6, 2, 5) 7461.3910377699\n",
            "(6, 2, 6) 7449.014482547406\n",
            "(6, 2, 7) 7446.318135386392\n",
            "(6, 2, 8) 7435.043390830605\n",
            "(6, 2, 9) 7403.638506744755\n",
            "(7, 0, 0) 7525.030146616684\n",
            "(7, 1, 0) 7492.037390231558\n",
            "(7, 1, 1) 7493.623133634157\n",
            "(7, 1, 2) 7483.888405800779\n",
            "(7, 1, 3) 7484.07224901181\n",
            "(7, 1, 4) 7433.874569926873\n",
            "(7, 2, 0) 7606.653767996355\n",
            "(7, 2, 1) 7483.2555324093655\n",
            "(7, 2, 2) 7487.5795622302885\n",
            "(7, 2, 3) 7430.452491346157\n",
            "(7, 2, 4) 7432.312918530221\n",
            "(7, 2, 5) 7436.260999486014\n",
            "(7, 2, 6) 7415.129760399148\n",
            "(7, 2, 7) 7406.3445522425645\n",
            "(7, 2, 8) 7401.743017638568\n",
            "(7, 2, 9) 7409.00290454278\n",
            "(8, 0, 0) 7520.0078844603795\n",
            "(8, 1, 0) 7492.337035276463\n",
            "(8, 1, 1) 7493.131917919175\n",
            "(8, 1, 2) 7483.157451731858\n",
            "(8, 1, 3) 7485.155166593417\n",
            "(8, 1, 4) 7436.800512859237\n",
            "(8, 2, 0) 7607.5857162292805\n",
            "(8, 2, 1) 7481.97547618187\n",
            "(8, 2, 2) 7482.980274312478\n",
            "(8, 2, 3) 7432.1607082388255\n",
            "(8, 2, 4) 7428.962286738859\n",
            "(8, 2, 5) 7429.435500127158\n",
            "(8, 2, 6) 7417.639713306944\n",
            "(8, 2, 8) 7408.476646439023\n",
            "(8, 2, 9) 7402.333366154933\n",
            "(9, 0, 0) 7522.6049658566335\n",
            "(9, 1, 0) 7485.90858419518\n",
            "(9, 1, 1) 7476.465107656879\n",
            "(9, 1, 2) 7443.0120707270835\n",
            "(9, 1, 3) 7447.636290511784\n",
            "(9, 1, 5) 7478.318075633281\n",
            "(9, 2, 0) 7546.266618016849\n",
            "(9, 2, 1) 7471.592418950575\n",
            "(9, 2, 2) 7463.079631275546\n",
            "(9, 2, 3) 7439.095425853286\n",
            "(9, 2, 4) 7434.366770066419\n",
            "(9, 2, 5) 7417.958250841079\n",
            "(9, 2, 6) 7413.550203359231\n",
            "(9, 2, 7) 7410.471479232552\n",
            "(9, 2, 8) 7403.786502245464\n",
            "(9, 2, 9) 7396.194757167514\n"
          ],
          "name": "stdout"
        }
      ]
    },
    {
      "cell_type": "code",
      "metadata": {
        "id": "CqiEM-Uos2Ar"
      },
      "source": [
        "from sklearn.metrics import r2_score"
      ],
      "execution_count": 20,
      "outputs": []
    },
    {
      "cell_type": "code",
      "metadata": {
        "colab": {
          "base_uri": "https://localhost:8080/"
        },
        "id": "UrBpg_n83jy2",
        "outputId": "95ca2738-d943-4dd9-972f-e7ba680b82d0"
      },
      "source": [
        "r2_score(test,predictions)"
      ],
      "execution_count": 21,
      "outputs": [
        {
          "output_type": "execute_result",
          "data": {
            "text/plain": [
              "0.5906171406807506"
            ]
          },
          "metadata": {
            "tags": []
          },
          "execution_count": 21
        }
      ]
    }
  ]
}