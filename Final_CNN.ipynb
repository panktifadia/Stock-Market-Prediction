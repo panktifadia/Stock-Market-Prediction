{
  "nbformat": 4,
  "nbformat_minor": 0,
  "metadata": {
    "colab": {
      "name": "Final_CNN.ipynb",
      "provenance": [],
      "collapsed_sections": []
    },
    "kernelspec": {
      "name": "python3",
      "display_name": "Python 3"
    },
    "language_info": {
      "name": "python"
    }
  },
  "cells": [
    {
      "cell_type": "code",
      "metadata": {
        "id": "e0gEsPi6DzWv"
      },
      "source": [
        "import math\n",
        "import pandas_datareader as web\n",
        "import numpy as np \n",
        "import pandas as pd \n",
        "from sklearn.preprocessing import MinMaxScaler\n",
        "from keras.models import Sequential\n",
        "from keras.layers import Dense, LSTM, Flatten, Conv1D, MaxPooling1D\n",
        "import matplotlib.pyplot as plt\n",
        "from sklearn.metrics import mean_absolute_error \n",
        "plt.style.use('fivethirtyeight')"
      ],
      "execution_count": 1,
      "outputs": []
    },
    {
      "cell_type": "code",
      "metadata": {
        "colab": {
          "base_uri": "https://localhost:8080/",
          "height": 419
        },
        "id": "R2o1itGmD2Ju",
        "outputId": "dfa47876-cf91-4c03-9f33-37a551a2b39c"
      },
      "source": [
        "df = pd.read_csv('/content/drive/MyDrive/TSLA.csv')\n",
        "df"
      ],
      "execution_count": 2,
      "outputs": [
        {
          "output_type": "execute_result",
          "data": {
            "text/html": [
              "<div>\n",
              "<style scoped>\n",
              "    .dataframe tbody tr th:only-of-type {\n",
              "        vertical-align: middle;\n",
              "    }\n",
              "\n",
              "    .dataframe tbody tr th {\n",
              "        vertical-align: top;\n",
              "    }\n",
              "\n",
              "    .dataframe thead th {\n",
              "        text-align: right;\n",
              "    }\n",
              "</style>\n",
              "<table border=\"1\" class=\"dataframe\">\n",
              "  <thead>\n",
              "    <tr style=\"text-align: right;\">\n",
              "      <th></th>\n",
              "      <th>Date</th>\n",
              "      <th>Open</th>\n",
              "      <th>High</th>\n",
              "      <th>Low</th>\n",
              "      <th>Close</th>\n",
              "      <th>Adj Close</th>\n",
              "      <th>Volume</th>\n",
              "    </tr>\n",
              "  </thead>\n",
              "  <tbody>\n",
              "    <tr>\n",
              "      <th>0</th>\n",
              "      <td>2015-04-06</td>\n",
              "      <td>39.599998</td>\n",
              "      <td>41.549999</td>\n",
              "      <td>39.500000</td>\n",
              "      <td>40.619999</td>\n",
              "      <td>40.619999</td>\n",
              "      <td>62279000</td>\n",
              "    </tr>\n",
              "    <tr>\n",
              "      <th>1</th>\n",
              "      <td>2015-04-07</td>\n",
              "      <td>40.501999</td>\n",
              "      <td>41.012001</td>\n",
              "      <td>40.228001</td>\n",
              "      <td>40.650002</td>\n",
              "      <td>40.650002</td>\n",
              "      <td>21739500</td>\n",
              "    </tr>\n",
              "    <tr>\n",
              "      <th>2</th>\n",
              "      <td>2015-04-08</td>\n",
              "      <td>41.639999</td>\n",
              "      <td>42.180000</td>\n",
              "      <td>41.174000</td>\n",
              "      <td>41.534000</td>\n",
              "      <td>41.534000</td>\n",
              "      <td>31515500</td>\n",
              "    </tr>\n",
              "    <tr>\n",
              "      <th>3</th>\n",
              "      <td>2015-04-09</td>\n",
              "      <td>41.686001</td>\n",
              "      <td>42.074001</td>\n",
              "      <td>41.223999</td>\n",
              "      <td>42.018002</td>\n",
              "      <td>42.018002</td>\n",
              "      <td>19001000</td>\n",
              "    </tr>\n",
              "    <tr>\n",
              "      <th>4</th>\n",
              "      <td>2015-04-10</td>\n",
              "      <td>41.970001</td>\n",
              "      <td>42.330002</td>\n",
              "      <td>41.799999</td>\n",
              "      <td>42.180000</td>\n",
              "      <td>42.180000</td>\n",
              "      <td>20338500</td>\n",
              "    </tr>\n",
              "    <tr>\n",
              "      <th>...</th>\n",
              "      <td>...</td>\n",
              "      <td>...</td>\n",
              "      <td>...</td>\n",
              "      <td>...</td>\n",
              "      <td>...</td>\n",
              "      <td>...</td>\n",
              "      <td>...</td>\n",
              "    </tr>\n",
              "    <tr>\n",
              "      <th>1505</th>\n",
              "      <td>2021-03-26</td>\n",
              "      <td>641.869995</td>\n",
              "      <td>643.820007</td>\n",
              "      <td>599.890015</td>\n",
              "      <td>618.710022</td>\n",
              "      <td>618.710022</td>\n",
              "      <td>33778400</td>\n",
              "    </tr>\n",
              "    <tr>\n",
              "      <th>1506</th>\n",
              "      <td>2021-03-29</td>\n",
              "      <td>615.640015</td>\n",
              "      <td>616.479980</td>\n",
              "      <td>596.020020</td>\n",
              "      <td>611.289978</td>\n",
              "      <td>611.289978</td>\n",
              "      <td>28637000</td>\n",
              "    </tr>\n",
              "    <tr>\n",
              "      <th>1507</th>\n",
              "      <td>2021-03-30</td>\n",
              "      <td>601.750000</td>\n",
              "      <td>637.659973</td>\n",
              "      <td>591.010010</td>\n",
              "      <td>635.619995</td>\n",
              "      <td>635.619995</td>\n",
              "      <td>39432400</td>\n",
              "    </tr>\n",
              "    <tr>\n",
              "      <th>1508</th>\n",
              "      <td>2021-03-31</td>\n",
              "      <td>646.619995</td>\n",
              "      <td>672.000000</td>\n",
              "      <td>641.109985</td>\n",
              "      <td>667.929993</td>\n",
              "      <td>667.929993</td>\n",
              "      <td>33337300</td>\n",
              "    </tr>\n",
              "    <tr>\n",
              "      <th>1509</th>\n",
              "      <td>2021-04-01</td>\n",
              "      <td>688.369995</td>\n",
              "      <td>692.419983</td>\n",
              "      <td>659.419983</td>\n",
              "      <td>661.750000</td>\n",
              "      <td>661.750000</td>\n",
              "      <td>35206300</td>\n",
              "    </tr>\n",
              "  </tbody>\n",
              "</table>\n",
              "<p>1510 rows × 7 columns</p>\n",
              "</div>"
            ],
            "text/plain": [
              "            Date        Open        High  ...       Close   Adj Close    Volume\n",
              "0     2015-04-06   39.599998   41.549999  ...   40.619999   40.619999  62279000\n",
              "1     2015-04-07   40.501999   41.012001  ...   40.650002   40.650002  21739500\n",
              "2     2015-04-08   41.639999   42.180000  ...   41.534000   41.534000  31515500\n",
              "3     2015-04-09   41.686001   42.074001  ...   42.018002   42.018002  19001000\n",
              "4     2015-04-10   41.970001   42.330002  ...   42.180000   42.180000  20338500\n",
              "...          ...         ...         ...  ...         ...         ...       ...\n",
              "1505  2021-03-26  641.869995  643.820007  ...  618.710022  618.710022  33778400\n",
              "1506  2021-03-29  615.640015  616.479980  ...  611.289978  611.289978  28637000\n",
              "1507  2021-03-30  601.750000  637.659973  ...  635.619995  635.619995  39432400\n",
              "1508  2021-03-31  646.619995  672.000000  ...  667.929993  667.929993  33337300\n",
              "1509  2021-04-01  688.369995  692.419983  ...  661.750000  661.750000  35206300\n",
              "\n",
              "[1510 rows x 7 columns]"
            ]
          },
          "metadata": {
            "tags": []
          },
          "execution_count": 2
        }
      ]
    },
    {
      "cell_type": "code",
      "metadata": {
        "colab": {
          "base_uri": "https://localhost:8080/",
          "height": 518
        },
        "id": "JvhVzhUED2MT",
        "outputId": "107a2685-a1a4-4a6f-a79e-5d170ba53837"
      },
      "source": [
        "#visualize the closing price history\n",
        "plt.figure(figsize=(16,8))\n",
        "plt.title('Closing Price History')\n",
        "plt.plot(df['Close'])\n",
        "plt.xlabel('Datapoints', fontsize=18)\n",
        "plt.ylabel('Closing Price ', fontsize=18)\n",
        "plt.show()"
      ],
      "execution_count": 3,
      "outputs": [
        {
          "output_type": "display_data",
          "data": {
            "image/png": "[encoded data removed]",
            "text/plain": [
              "<Figure size 1152x576 with 1 Axes>"
            ]
          },
          "metadata": {
            "tags": [],
            "needs_background": "light"
          }
        }
      ]
    },
    {
      "cell_type": "code",
      "metadata": {
        "id": "gFvPvu2FD2QK"
      },
      "source": [
        "#creating a new dataframe with only the \"Close column\"\n",
        "data = df.filter(['Close'])"
      ],
      "execution_count": 4,
      "outputs": []
    },
    {
      "cell_type": "code",
      "metadata": {
        "id": "ixAT5a7vD2Sx"
      },
      "source": [
        "#converting the dataframe to a numpy array\n",
        "ds = data.values"
      ],
      "execution_count": 69,
      "outputs": []
    },
    {
      "cell_type": "code",
      "metadata": {
        "colab": {
          "base_uri": "https://localhost:8080/"
        },
        "id": "nN6miYF7D2U8",
        "outputId": "996da0a1-966d-416d-f224-3a6bae25742d"
      },
      "source": [
        "#getting the number of rows to train the model (80% training ,20% testing)\n",
        "train_len = math.ceil(len(ds)*.8)\n",
        "\n",
        "train_len"
      ],
      "execution_count": 70,
      "outputs": [
        {
          "output_type": "execute_result",
          "data": {
            "text/plain": [
              "1208"
            ]
          },
          "metadata": {
            "tags": []
          },
          "execution_count": 70
        }
      ]
    },
    {
      "cell_type": "code",
      "metadata": {
        "colab": {
          "base_uri": "https://localhost:8080/"
        },
        "id": "QJ0BMkGeD2Yo",
        "outputId": "d4e12c6a-2137-42ef-8e4c-753ce928d466"
      },
      "source": [
        "#Scaling the data (normalization)\n",
        "scaler =  MinMaxScaler(feature_range=(0,1))\n",
        "scaled = scaler.fit_transform(ds)\n",
        "\n",
        "scaled"
      ],
      "execution_count": 71,
      "outputs": [
        {
          "output_type": "execute_result",
          "data": {
            "text/plain": [
              "array([[0.01391223],\n",
              "       [0.01394735],\n",
              "       [0.01498205],\n",
              "       ...,\n",
              "       [0.7103432 ],\n",
              "       [0.74816116],\n",
              "       [0.74092765]])"
            ]
          },
          "metadata": {
            "tags": []
          },
          "execution_count": 71
        }
      ]
    },
    {
      "cell_type": "code",
      "metadata": {
        "colab": {
          "base_uri": "https://localhost:8080/"
        },
        "id": "rGXqrd1hD2ao",
        "outputId": "f5a0c711-6e68-45fd-9bac-f97b68f129e4"
      },
      "source": [
        "#creating the scaled training dataset\n",
        "traind = scaled[0:train_len, :]\n",
        "#split the data into x_train and y_train data sets\n",
        "x_train = []\n",
        "y_train = []\n",
        "\n",
        "for i in range(60, len(traind)):\n",
        "    x_train.append(traind[i-60:i, 0])\n",
        "    y_train.append(traind[i, 0])\n",
        "    if i<= 61:\n",
        "        print(x_train)\n",
        "        print(y_train)\n",
        "        print()\n",
        "        "
      ],
      "execution_count": 72,
      "outputs": [
        {
          "output_type": "stream",
          "text": [
            "[array([0.01391223, 0.01394735, 0.01498205, 0.01554856, 0.01573817,\n",
            "       0.01547599, 0.01493289, 0.0150195 , 0.01475497, 0.01477604,\n",
            "       0.01442022, 0.01538937, 0.01773734, 0.0175407 , 0.0175009 ,\n",
            "       0.02057222, 0.02032174, 0.02078291, 0.0192847 , 0.01928002,\n",
            "       0.02032876, 0.02089995, 0.02031003, 0.02180122, 0.02175674,\n",
            "       0.02243093, 0.02365993, 0.02329474, 0.02351011, 0.02461972,\n",
            "       0.02459865, 0.02422175, 0.02356863, 0.02386593, 0.02435987,\n",
            "       0.02429666, 0.02428964, 0.0252307 , 0.02507854, 0.02476251,\n",
            "       0.02450501, 0.02465483, 0.02393616, 0.02468994, 0.02636372,\n",
            "       0.02629583, 0.02505513, 0.02522134, 0.02505279, 0.02498022,\n",
            "       0.02562164, 0.02732819, 0.02767464, 0.02781978, 0.02718305,\n",
            "       0.02902771, 0.02844248, 0.0292899 , 0.02889194, 0.02770508])]\n",
            "[0.029165828042826192]\n",
            "\n",
            "[array([0.01391223, 0.01394735, 0.01498205, 0.01554856, 0.01573817,\n",
            "       0.01547599, 0.01493289, 0.0150195 , 0.01475497, 0.01477604,\n",
            "       0.01442022, 0.01538937, 0.01773734, 0.0175407 , 0.0175009 ,\n",
            "       0.02057222, 0.02032174, 0.02078291, 0.0192847 , 0.01928002,\n",
            "       0.02032876, 0.02089995, 0.02031003, 0.02180122, 0.02175674,\n",
            "       0.02243093, 0.02365993, 0.02329474, 0.02351011, 0.02461972,\n",
            "       0.02459865, 0.02422175, 0.02356863, 0.02386593, 0.02435987,\n",
            "       0.02429666, 0.02428964, 0.0252307 , 0.02507854, 0.02476251,\n",
            "       0.02450501, 0.02465483, 0.02393616, 0.02468994, 0.02636372,\n",
            "       0.02629583, 0.02505513, 0.02522134, 0.02505279, 0.02498022,\n",
            "       0.02562164, 0.02732819, 0.02767464, 0.02781978, 0.02718305,\n",
            "       0.02902771, 0.02844248, 0.0292899 , 0.02889194, 0.02770508]), array([0.01394735, 0.01498205, 0.01554856, 0.01573817, 0.01547599,\n",
            "       0.01493289, 0.0150195 , 0.01475497, 0.01477604, 0.01442022,\n",
            "       0.01538937, 0.01773734, 0.0175407 , 0.0175009 , 0.02057222,\n",
            "       0.02032174, 0.02078291, 0.0192847 , 0.01928002, 0.02032876,\n",
            "       0.02089995, 0.02031003, 0.02180122, 0.02175674, 0.02243093,\n",
            "       0.02365993, 0.02329474, 0.02351011, 0.02461972, 0.02459865,\n",
            "       0.02422175, 0.02356863, 0.02386593, 0.02435987, 0.02429666,\n",
            "       0.02428964, 0.0252307 , 0.02507854, 0.02476251, 0.02450501,\n",
            "       0.02465483, 0.02393616, 0.02468994, 0.02636372, 0.02629583,\n",
            "       0.02505513, 0.02522134, 0.02505279, 0.02498022, 0.02562164,\n",
            "       0.02732819, 0.02767464, 0.02781978, 0.02718305, 0.02902771,\n",
            "       0.02844248, 0.0292899 , 0.02889194, 0.02770508, 0.02916583])]\n",
            "[0.029165828042826192, 0.02937417443960494]\n",
            "\n"
          ],
          "name": "stdout"
        }
      ]
    },
    {
      "cell_type": "code",
      "metadata": {
        "colab": {
          "base_uri": "https://localhost:8080/"
        },
        "id": "blc8tColD2c4",
        "outputId": "31551f09-2867-4e87-a43a-3102298ba52f"
      },
      "source": [
        "#converting the x_train and y_train to numpy arrays \n",
        "x_train, y_train = np.array(x_train), np.array(y_train)\n",
        "\n",
        "#reshaping the data (CNN expects 2 dimentionals)\n",
        "x_train = np.reshape(x_train, (x_train.shape[0], x_train.shape[1], 1))\n",
        "x_train.shape"
      ],
      "execution_count": 73,
      "outputs": [
        {
          "output_type": "execute_result",
          "data": {
            "text/plain": [
              "(1148, 60, 1)"
            ]
          },
          "metadata": {
            "tags": []
          },
          "execution_count": 73
        }
      ]
    },
    {
      "cell_type": "code",
      "metadata": {
        "id": "NkR5YhQwEhI2"
      },
      "source": [
        "#building the CNN model\n",
        "model = Sequential()\n",
        "model.add(Conv1D(filters=128, kernel_size=5, activation='relu', input_shape = (x_train.shape[1], 1)))\n",
        "model.add(Conv1D(filters=128, kernel_size=5, activation='relu'))\n",
        "model.add(MaxPooling1D(pool_size=2))\n",
        "model.add(Flatten())\n",
        "model.add(Dense(1))"
      ],
      "execution_count": 86,
      "outputs": []
    },
    {
      "cell_type": "code",
      "metadata": {
        "colab": {
          "base_uri": "https://localhost:8080/"
        },
        "id": "bWrcrAkDEhVV",
        "outputId": "0b014b21-6167-4a74-a785-f2d058094757"
      },
      "source": [
        "#compiling the model \n",
        "model.compile(optimizer='adam', loss='mean_squared_error')\n",
        "\n",
        "#training the model\n",
        "hist = model.fit(x_train, y_train, batch_size=1, epochs=20)"
      ],
      "execution_count": 87,
      "outputs": [
        {
          "output_type": "stream",
          "text": [
            "Epoch 1/20\n",
            "1148/1148 [==============================] - 4s 3ms/step - loss: 9.8630e-05\n",
            "Epoch 2/20\n",
            "1148/1148 [==============================] - 4s 3ms/step - loss: 3.2504e-05\n",
            "Epoch 3/20\n",
            "1148/1148 [==============================] - 4s 3ms/step - loss: 2.2977e-05\n",
            "Epoch 4/20\n",
            "1148/1148 [==============================] - 4s 3ms/step - loss: 2.1527e-05\n",
            "Epoch 5/20\n",
            "1148/1148 [==============================] - 4s 3ms/step - loss: 1.6043e-05\n",
            "Epoch 6/20\n",
            "1148/1148 [==============================] - 4s 3ms/step - loss: 1.5181e-05\n",
            "Epoch 7/20\n",
            "1148/1148 [==============================] - 4s 3ms/step - loss: 1.4172e-05\n",
            "Epoch 8/20\n",
            "1148/1148 [==============================] - 4s 3ms/step - loss: 1.6651e-05\n",
            "Epoch 9/20\n",
            "1148/1148 [==============================] - 4s 3ms/step - loss: 1.7047e-05\n",
            "Epoch 10/20\n",
            "1148/1148 [==============================] - 4s 3ms/step - loss: 1.2206e-05\n",
            "Epoch 11/20\n",
            "1148/1148 [==============================] - 4s 3ms/step - loss: 1.1698e-05\n",
            "Epoch 12/20\n",
            "1148/1148 [==============================] - 4s 3ms/step - loss: 2.3465e-05\n",
            "Epoch 13/20\n",
            "1148/1148 [==============================] - 4s 3ms/step - loss: 1.8081e-05\n",
            "Epoch 14/20\n",
            "1148/1148 [==============================] - 4s 3ms/step - loss: 1.3485e-05\n",
            "Epoch 15/20\n",
            "1148/1148 [==============================] - 4s 3ms/step - loss: 1.3867e-05\n",
            "Epoch 16/20\n",
            "1148/1148 [==============================] - 4s 3ms/step - loss: 1.1262e-05\n",
            "Epoch 17/20\n",
            "1148/1148 [==============================] - 4s 3ms/step - loss: 1.4868e-05\n",
            "Epoch 18/20\n",
            "1148/1148 [==============================] - 4s 3ms/step - loss: 1.1610e-05\n",
            "Epoch 19/20\n",
            "1148/1148 [==============================] - 4s 3ms/step - loss: 1.2263e-05\n",
            "Epoch 20/20\n",
            "1148/1148 [==============================] - 4s 3ms/step - loss: 1.1472e-05\n"
          ],
          "name": "stdout"
        }
      ]
    },
    {
      "cell_type": "code",
      "metadata": {
        "colab": {
          "base_uri": "https://localhost:8080/"
        },
        "id": "lwJB4IezEhYh",
        "outputId": "fbfbe3e5-c1c7-4cad-a397-ad908d738cd5"
      },
      "source": [
        "print(model.summary())"
      ],
      "execution_count": 88,
      "outputs": [
        {
          "output_type": "stream",
          "text": [
            "Model: \"sequential_7\"\n",
            "_________________________________________________________________\n",
            "Layer (type)                 Output Shape              Param #   \n",
            "=================================================================\n",
            "conv1d_14 (Conv1D)           (None, 56, 128)           768       \n",
            "_________________________________________________________________\n",
            "conv1d_15 (Conv1D)           (None, 52, 128)           82048     \n",
            "_________________________________________________________________\n",
            "max_pooling1d_7 (MaxPooling1 (None, 26, 128)           0         \n",
            "_________________________________________________________________\n",
            "flatten_5 (Flatten)          (None, 3328)              0         \n",
            "_________________________________________________________________\n",
            "dense_7 (Dense)              (None, 1)                 3329      \n",
            "=================================================================\n",
            "Total params: 86,145\n",
            "Trainable params: 86,145\n",
            "Non-trainable params: 0\n",
            "_________________________________________________________________\n",
            "None\n"
          ],
          "name": "stdout"
        }
      ]
    },
    {
      "cell_type": "code",
      "metadata": {
        "colab": {
          "base_uri": "https://localhost:8080/",
          "height": 296
        },
        "id": "bvaS-C_iD2gJ",
        "outputId": "3e3e20e4-f24b-4c74-d61f-9b447401bb9b"
      },
      "source": [
        "#showing the model loss\n",
        "plt.plot(hist.history['loss'])\n",
        "plt.title('Model loss')\n",
        "plt.ylabel('Loss')\n",
        "plt.xlabel('Epoch')\n",
        "plt.legend(['Train', 'Test'], loc='upper left')\n",
        "plt.show()"
      ],
      "execution_count": 89,
      "outputs": [
        {
          "output_type": "display_data",
          "data": {
            "image/png": "[encoded data removed]",
            "text/plain": [
              "<Figure size 432x288 with 1 Axes>"
            ]
          },
          "metadata": {
            "tags": [],
            "needs_background": "light"
          }
        }
      ]
    },
    {
      "cell_type": "code",
      "metadata": {
        "id": "3UXwxryiFWWl"
      },
      "source": [
        "#creating the testing data set\n",
        "#creating a new array containing scaled values from index \n",
        "testd = scaled[train_len - 60: , : ]\n",
        "#creating the datasets x_test and y_test\n",
        "x_test = []\n",
        "y_test = ds[train_len:, :]\n",
        "for i in range (60, len(testd)):\n",
        "    x_test.append(testd[i-60:i, 0])\n",
        "    \n",
        "#converting the data to a numpy array\n",
        "x_test = np.array(x_test)\n",
        "\n",
        "#reshaping the data\n",
        "x_test = np.reshape(x_test, (x_test.shape[0], x_test.shape[1], 1))\n"
      ],
      "execution_count": 90,
      "outputs": []
    },
    {
      "cell_type": "code",
      "metadata": {
        "id": "6AoZun6qFXcU"
      },
      "source": [
        "#getting the models predicted price values\n",
        "pred = model.predict(x_test)\n",
        "pred = scaler.inverse_transform(pred)\n"
      ],
      "execution_count": 91,
      "outputs": []
    },
    {
      "cell_type": "code",
      "metadata": {
        "colab": {
          "base_uri": "https://localhost:8080/"
        },
        "id": "nUmpGmlGFXez",
        "outputId": "d165f220-a88c-4da1-8f77-a14d802b3382"
      },
      "source": [
        "#getting the root mean squared error (RMSE) (lower values better fit)\n",
        "rmse = np.sqrt( np.mean( pred - y_test)**2)\n",
        "print(rmse)"
      ],
      "execution_count": 92,
      "outputs": [
        {
          "output_type": "stream",
          "text": [
            "69.738738096096\n"
          ],
          "name": "stdout"
        }
      ]
    },
    {
      "cell_type": "code",
      "metadata": {
        "colab": {
          "base_uri": "https://localhost:8080/"
        },
        "id": "htRLOk2hFXih",
        "outputId": "011dcb50-d7a4-407b-feee-86324ace7cac"
      },
      "source": [
        "#getting the mean absolute error (average of the forecast error values - all of them forced to be positive)\n",
        "mae = mean_absolute_error(y_test, pred)\n",
        "print(mae)"
      ],
      "execution_count": 93,
      "outputs": [
        {
          "output_type": "stream",
          "text": [
            "72.35511563668803\n"
          ],
          "name": "stdout"
        }
      ]
    },
    {
      "cell_type": "code",
      "metadata": {
        "colab": {
          "base_uri": "https://localhost:8080/"
        },
        "id": "dP8ugbaHGOzh",
        "outputId": "dd04ea47-19eb-480b-f965-b98dd4b473be"
      },
      "source": [
        "#defining MAPE\n",
        "def mean_absolute_percentage_error(y_true, y_pred): \n",
        "    y_true, y_pred = np.array(y_true), np.array(y_pred)\n",
        "    return np.mean(np.abs((y_true - y_pred) / y_true)) * 100\n",
        "#getting MAPE\n",
        "mape = mean_absolute_percentage_error(y_test, pred)\n",
        "print(mape)"
      ],
      "execution_count": 94,
      "outputs": [
        {
          "output_type": "stream",
          "text": [
            "14.922151300196449\n"
          ],
          "name": "stdout"
        }
      ]
    },
    {
      "cell_type": "code",
      "metadata": {
        "colab": {
          "base_uri": "https://localhost:8080/",
          "height": 566
        },
        "id": "e-uZowCPGO82",
        "outputId": "02791ed1-2c0b-4eb9-c21b-6d70f9026e77"
      },
      "source": [
        "#plotting the data\n",
        "train = data[:train_len]\n",
        "val = data[train_len:]\n",
        "val['Predictions'] = pred\n",
        "#visualizing the data\n",
        "plt.figure(figsize=(12,7))\n",
        "plt.title('Model')\n",
        "plt.xlabel('Datapoints', fontsize = 18)\n",
        "plt.ylabel('Closing Price', fontsize=18)\n",
        "plt.plot(train['Close'])\n",
        "plt.plot(val[['Close', 'Predictions']])\n",
        "plt.legend(['Train', 'Val', 'Predictions'], loc='lower right')\n",
        "plt.show()"
      ],
      "execution_count": 95,
      "outputs": [
        {
          "output_type": "stream",
          "text": [
            "/usr/local/lib/python3.7/dist-packages/ipykernel_launcher.py:4: SettingWithCopyWarning: \n",
            "A value is trying to be set on a copy of a slice from a DataFrame.\n",
            "Try using .loc[row_indexer,col_indexer] = value instead\n",
            "\n",
            "See the caveats in the documentation: https://pandas.pydata.org/pandas-docs/stable/user_guide/indexing.html#returning-a-view-versus-a-copy\n",
            "  after removing the cwd from sys.path.\n"
          ],
          "name": "stderr"
        },
        {
          "output_type": "display_data",
          "data": {
            "image/png": "[encoded data removed]",
            "text/plain": [
              "<Figure size 864x504 with 1 Axes>"
            ]
          },
          "metadata": {
            "tags": [],
            "needs_background": "light"
          }
        }
      ]
    },
    {
      "cell_type": "code",
      "metadata": {
        "colab": {
          "base_uri": "https://localhost:8080/",
          "height": 566
        },
        "id": "K6SCUjJKGWxc",
        "outputId": "a1f55340-8c02-4597-cac8-558dcf7c3661"
      },
      "source": [
        "#plotting zoomed in\n",
        "train = data[2000:train_len]\n",
        "val = data[train_len:]\n",
        "val['Predictions'] = pred\n",
        "#visualizing the data\n",
        "plt.figure(figsize=(12,7))\n",
        "plt.title('Model')\n",
        "plt.xlabel('Datapoints', fontsize = 18)\n",
        "plt.ylabel('Closing Price', fontsize=18)\n",
        "plt.plot(train['Close'])\n",
        "plt.plot(val[['Close', 'Predictions']])\n",
        "plt.legend(['Train', 'Val', 'Predictions'], loc='lower right')\n",
        "plt.show()"
      ],
      "execution_count": 96,
      "outputs": [
        {
          "output_type": "stream",
          "text": [
            "/usr/local/lib/python3.7/dist-packages/ipykernel_launcher.py:4: SettingWithCopyWarning: \n",
            "A value is trying to be set on a copy of a slice from a DataFrame.\n",
            "Try using .loc[row_indexer,col_indexer] = value instead\n",
            "\n",
            "See the caveats in the documentation: https://pandas.pydata.org/pandas-docs/stable/user_guide/indexing.html#returning-a-view-versus-a-copy\n",
            "  after removing the cwd from sys.path.\n"
          ],
          "name": "stderr"
        },
        {
          "output_type": "display_data",
          "data": {
            "image/png": "[encoded data removed]",
            "text/plain": [
              "<Figure size 864x504 with 1 Axes>"
            ]
          },
          "metadata": {
            "tags": [],
            "needs_background": "light"
          }
        }
      ]
    },
    {
      "cell_type": "code",
      "metadata": {
        "id": "FlZOrB7nGW0W"
      },
      "source": [
        "from sklearn.metrics import r2_score"
      ],
      "execution_count": 28,
      "outputs": []
    },
    {
      "cell_type": "code",
      "metadata": {
        "colab": {
          "base_uri": "https://localhost:8080/"
        },
        "id": "6Zapo2SsGW3h",
        "outputId": "34c2a959-4f2d-4221-8ac7-4177646f0c15"
      },
      "source": [
        "r2_score(y_test,pred)"
      ],
      "execution_count": 97,
      "outputs": [
        {
          "output_type": "execute_result",
          "data": {
            "text/plain": [
              "0.8143176171003002"
            ]
          },
          "metadata": {
            "tags": []
          },
          "execution_count": 97
        }
      ]
    },
    {
      "cell_type": "code",
      "metadata": {
        "colab": {
          "base_uri": "https://localhost:8080/",
          "height": 419
        },
        "id": "mPIlh2OtgiPR",
        "outputId": "df7b810d-bc49-4608-ea95-da31f84ba0fd"
      },
      "source": [
        "#Showing the actual and predicted values\n",
        "val"
      ],
      "execution_count": 98,
      "outputs": [
        {
          "output_type": "execute_result",
          "data": {
            "text/html": [
              "<div>\n",
              "<style scoped>\n",
              "    .dataframe tbody tr th:only-of-type {\n",
              "        vertical-align: middle;\n",
              "    }\n",
              "\n",
              "    .dataframe tbody tr th {\n",
              "        vertical-align: top;\n",
              "    }\n",
              "\n",
              "    .dataframe thead th {\n",
              "        text-align: right;\n",
              "    }\n",
              "</style>\n",
              "<table border=\"1\" class=\"dataframe\">\n",
              "  <thead>\n",
              "    <tr style=\"text-align: right;\">\n",
              "      <th></th>\n",
              "      <th>Close</th>\n",
              "      <th>Predictions</th>\n",
              "    </tr>\n",
              "  </thead>\n",
              "  <tbody>\n",
              "    <tr>\n",
              "      <th>1208</th>\n",
              "      <td>113.912003</td>\n",
              "      <td>105.348541</td>\n",
              "    </tr>\n",
              "    <tr>\n",
              "      <th>1209</th>\n",
              "      <td>114.440002</td>\n",
              "      <td>111.492676</td>\n",
              "    </tr>\n",
              "    <tr>\n",
              "      <th>1210</th>\n",
              "      <td>112.963997</td>\n",
              "      <td>113.110298</td>\n",
              "    </tr>\n",
              "    <tr>\n",
              "      <th>1211</th>\n",
              "      <td>111.603996</td>\n",
              "      <td>112.470863</td>\n",
              "    </tr>\n",
              "    <tr>\n",
              "      <th>1212</th>\n",
              "      <td>113.379997</td>\n",
              "      <td>110.158150</td>\n",
              "    </tr>\n",
              "    <tr>\n",
              "      <th>...</th>\n",
              "      <td>...</td>\n",
              "      <td>...</td>\n",
              "    </tr>\n",
              "    <tr>\n",
              "      <th>1505</th>\n",
              "      <td>618.710022</td>\n",
              "      <td>787.528870</td>\n",
              "    </tr>\n",
              "    <tr>\n",
              "      <th>1506</th>\n",
              "      <td>611.289978</td>\n",
              "      <td>779.729370</td>\n",
              "    </tr>\n",
              "    <tr>\n",
              "      <th>1507</th>\n",
              "      <td>635.619995</td>\n",
              "      <td>760.513428</td>\n",
              "    </tr>\n",
              "    <tr>\n",
              "      <th>1508</th>\n",
              "      <td>667.929993</td>\n",
              "      <td>759.129456</td>\n",
              "    </tr>\n",
              "    <tr>\n",
              "      <th>1509</th>\n",
              "      <td>661.750000</td>\n",
              "      <td>772.420410</td>\n",
              "    </tr>\n",
              "  </tbody>\n",
              "</table>\n",
              "<p>302 rows × 2 columns</p>\n",
              "</div>"
            ],
            "text/plain": [
              "           Close  Predictions\n",
              "1208  113.912003   105.348541\n",
              "1209  114.440002   111.492676\n",
              "1210  112.963997   113.110298\n",
              "1211  111.603996   112.470863\n",
              "1212  113.379997   110.158150\n",
              "...          ...          ...\n",
              "1505  618.710022   787.528870\n",
              "1506  611.289978   779.729370\n",
              "1507  635.619995   760.513428\n",
              "1508  667.929993   759.129456\n",
              "1509  661.750000   772.420410\n",
              "\n",
              "[302 rows x 2 columns]"
            ]
          },
          "metadata": {
            "tags": []
          },
          "execution_count": 98
        }
      ]
    }
  ]
}